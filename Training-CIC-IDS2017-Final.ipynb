{
 "cells": [
  {
   "cell_type": "markdown",
   "metadata": {
    "id": "yqiP1ftFazMG"
   },
   "source": [
    "# **Phân tích bộ dữ liệu đánh giá phát hiện xâm nhập (CIC-IDS2017)**"
   ]
  },
  {
   "cell_type": "markdown",
   "metadata": {
    "id": "TPwNIskNhEHI"
   },
   "source": [
    "## Đặc điểm bộ dữ liệu"
   ]
  },
  {
   "cell_type": "markdown",
   "metadata": {
    "id": "B8DGk4gEhiJp"
   },
   "source": [
    "### 2.1 Xem dữ liệu và phân tích hàng, cột"
   ]
  },
  {
   "cell_type": "code",
   "execution_count": 1,
   "metadata": {
    "id": "zZZzVucCEfoi"
   },
   "outputs": [],
   "source": [
    "import numpy as np\n",
    "import pandas as pd\n",
    "import seaborn as sns\n",
    "import missingno as msno\n",
    "sns.set(style='darkgrid')\n",
    "import matplotlib.pyplot as plt\n",
    "import warnings"
   ]
  },
  {
   "cell_type": "code",
   "execution_count": 20,
   "metadata": {
    "id": "g-Ma89nNhldR"
   },
   "outputs": [
    {
     "name": "stdout",
     "output_type": "stream",
     "text": [
      "Data dimensions: \n",
      "Data1 -> 529918 rows, 15 columns\n",
      "Data2 -> 445909 rows, 15 columns\n",
      "Data3 -> 692703 rows, 15 columns\n",
      "Data4 -> 170366 rows, 15 columns\n",
      "Data5 -> 288602 rows, 15 columns\n",
      "Data6 -> 191033 rows, 15 columns\n",
      "Data7 -> 286467 rows, 15 columns\n",
      "Data8 -> 225745 rows, 15 columns\n"
     ]
    }
   ],
   "source": [
    "# Danh sách các cột cần đọc với tên mới tương ứng\n",
    "usecols_features_importance = [\n",
    "    ' Average Packet Size',\n",
    "    ' Avg Bwd Segment Size',\n",
    "    ' Avg Fwd Segment Size',\n",
    "    ' Bwd Header Length',\n",
    "    'Bwd Packet Length Max',\n",
    "    ' Bwd Packet Length Mean',\n",
    "    ' Fwd Packet Length Max',\n",
    "    ' Fwd Packet Length Mean',\n",
    "    ' Init_Win_bytes_backward',\n",
    "    ' Max Packet Length',\n",
    "    ' Packet Length Mean',\n",
    "    ' Packet Length Std',\n",
    "    ' Subflow Fwd Bytes',\n",
    "    'Total Length of Fwd Packets',\n",
    "    ' Label'\n",
    "]\n",
    "\n",
    "# Đọc dữ liệu với các cột được cập nhật\n",
    "data1 = pd.read_csv('MachineLearningCVE/Monday-WorkingHours.pcap_ISCX.csv', usecols=usecols_features_importance)\n",
    "data2 = pd.read_csv('MachineLearningCVE/Tuesday-WorkingHours.pcap_ISCX.csv', usecols=usecols_features_importance)\n",
    "data3 = pd.read_csv('MachineLearningCVE/Wednesday-workingHours.pcap_ISCX.csv', usecols=usecols_features_importance)\n",
    "data4 = pd.read_csv('MachineLearningCVE/Thursday-WorkingHours-Morning-WebAttacks.pcap_ISCX.csv', usecols=usecols_features_importance)\n",
    "data5 = pd.read_csv('MachineLearningCVE/Thursday-WorkingHours-Afternoon-Infilteration.pcap_ISCX.csv', usecols=usecols_features_importance)\n",
    "data6 = pd.read_csv('MachineLearningCVE/Friday-WorkingHours-Morning.pcap_ISCX.csv', usecols=usecols_features_importance)\n",
    "data7 = pd.read_csv('MachineLearningCVE/Friday-WorkingHours-Afternoon-PortScan.pcap_ISCX.csv', usecols=usecols_features_importance)\n",
    "data8 = pd.read_csv('MachineLearningCVE/Friday-WorkingHours-Afternoon-DDos.pcap_ISCX.csv', usecols=usecols_features_importance)\n",
    "\n",
    "# Gộp tất cả các tệp dữ liệu vào danh sách\n",
    "data_list = [data1, data2, data3, data4, data5, data6, data7, data8]\n",
    "\n",
    "print('Data dimensions: ')\n",
    "for i, data in enumerate(data_list, start=1):\n",
    "    rows, cols = data.shape\n",
    "    print(f'Data{i} -> {rows} rows, {cols} columns')\n"
   ]
  },
  {
   "cell_type": "code",
   "execution_count": 21,
   "metadata": {
    "colab": {
     "base_uri": "https://localhost:8080/"
    },
    "id": "47AUI4Q9GiBt",
    "outputId": "105406bc-2fb0-4b5f-b3e4-98acacb78e2d"
   },
   "outputs": [
    {
     "name": "stdout",
     "output_type": "stream",
     "text": [
      "New dimension:\n",
      "Number of rows: 2830743\n",
      "Number of columns: 15\n",
      "Total cells: 42461145\n"
     ]
    }
   ],
   "source": [
    "data = pd.concat(data_list)\n",
    "rows, cols = data.shape\n",
    "print('New dimension:')\n",
    "print(f'Number of rows: {rows}')\n",
    "print(f'Number of columns: {cols}')\n",
    "print(f'Total cells: {rows * cols}')"
   ]
  },
  {
   "cell_type": "code",
   "execution_count": 22,
   "metadata": {
    "id": "w3VWo9AZa0CP"
   },
   "outputs": [],
   "source": [
    "# Deleting dataframes after concating to save memory\n",
    "for d in data_list: del d"
   ]
  },
  {
   "cell_type": "code",
   "execution_count": 23,
   "metadata": {
    "id": "TKja3Q5r3AiS"
   },
   "outputs": [],
   "source": [
    "# Renaming the columns by removing leading/trailing whitespace\n",
    "col_names = {col: col.strip() for col in data.columns}\n",
    "data.rename(columns = col_names, inplace = True)"
   ]
  },
  {
   "cell_type": "code",
   "execution_count": 24,
   "metadata": {
    "colab": {
     "base_uri": "https://localhost:8080/"
    },
    "id": "Tt8K5je1auwT",
    "outputId": "35cc864d-3162-4b44-fde3-b6529407a5e8"
   },
   "outputs": [
    {
     "name": "stdout",
     "output_type": "stream",
     "text": [
      "Overview of Columns:\n"
     ]
    },
    {
     "data": {
      "text/html": [
       "<div>\n",
       "<style scoped>\n",
       "    .dataframe tbody tr th:only-of-type {\n",
       "        vertical-align: middle;\n",
       "    }\n",
       "\n",
       "    .dataframe tbody tr th {\n",
       "        vertical-align: top;\n",
       "    }\n",
       "\n",
       "    .dataframe thead th {\n",
       "        text-align: right;\n",
       "    }\n",
       "</style>\n",
       "<table border=\"1\" class=\"dataframe\">\n",
       "  <thead>\n",
       "    <tr style=\"text-align: right;\">\n",
       "      <th></th>\n",
       "      <th>count</th>\n",
       "      <th>mean</th>\n",
       "      <th>std</th>\n",
       "      <th>min</th>\n",
       "      <th>25%</th>\n",
       "      <th>50%</th>\n",
       "      <th>75%</th>\n",
       "      <th>max</th>\n",
       "    </tr>\n",
       "  </thead>\n",
       "  <tbody>\n",
       "    <tr>\n",
       "      <th>Total Length of Fwd Packets</th>\n",
       "      <td>2830743.0</td>\n",
       "      <td>549.302415</td>\n",
       "      <td>9.993589e+03</td>\n",
       "      <td>0.000000e+00</td>\n",
       "      <td>12.0</td>\n",
       "      <td>62.000000</td>\n",
       "      <td>187.000000</td>\n",
       "      <td>1.290000e+07</td>\n",
       "    </tr>\n",
       "    <tr>\n",
       "      <th>Fwd Packet Length Max</th>\n",
       "      <td>2830743.0</td>\n",
       "      <td>207.599941</td>\n",
       "      <td>7.171848e+02</td>\n",
       "      <td>0.000000e+00</td>\n",
       "      <td>6.0</td>\n",
       "      <td>37.000000</td>\n",
       "      <td>81.000000</td>\n",
       "      <td>2.482000e+04</td>\n",
       "    </tr>\n",
       "    <tr>\n",
       "      <th>Fwd Packet Length Mean</th>\n",
       "      <td>2830743.0</td>\n",
       "      <td>58.201939</td>\n",
       "      <td>1.860912e+02</td>\n",
       "      <td>0.000000e+00</td>\n",
       "      <td>6.0</td>\n",
       "      <td>34.000000</td>\n",
       "      <td>50.000000</td>\n",
       "      <td>5.940857e+03</td>\n",
       "    </tr>\n",
       "    <tr>\n",
       "      <th>Bwd Packet Length Max</th>\n",
       "      <td>2830743.0</td>\n",
       "      <td>870.849455</td>\n",
       "      <td>1.946367e+03</td>\n",
       "      <td>0.000000e+00</td>\n",
       "      <td>0.0</td>\n",
       "      <td>79.000000</td>\n",
       "      <td>280.000000</td>\n",
       "      <td>1.953000e+04</td>\n",
       "    </tr>\n",
       "    <tr>\n",
       "      <th>Bwd Packet Length Mean</th>\n",
       "      <td>2830743.0</td>\n",
       "      <td>305.949281</td>\n",
       "      <td>6.052568e+02</td>\n",
       "      <td>0.000000e+00</td>\n",
       "      <td>0.0</td>\n",
       "      <td>72.000000</td>\n",
       "      <td>181.000000</td>\n",
       "      <td>5.800500e+03</td>\n",
       "    </tr>\n",
       "    <tr>\n",
       "      <th>Bwd Header Length</th>\n",
       "      <td>2830743.0</td>\n",
       "      <td>-2273.275320</td>\n",
       "      <td>1.452209e+06</td>\n",
       "      <td>-1.073741e+09</td>\n",
       "      <td>20.0</td>\n",
       "      <td>40.000000</td>\n",
       "      <td>104.000000</td>\n",
       "      <td>5.838440e+06</td>\n",
       "    </tr>\n",
       "    <tr>\n",
       "      <th>Max Packet Length</th>\n",
       "      <td>2830743.0</td>\n",
       "      <td>950.402445</td>\n",
       "      <td>2.028229e+03</td>\n",
       "      <td>0.000000e+00</td>\n",
       "      <td>6.0</td>\n",
       "      <td>87.000000</td>\n",
       "      <td>525.000000</td>\n",
       "      <td>2.482000e+04</td>\n",
       "    </tr>\n",
       "    <tr>\n",
       "      <th>Packet Length Mean</th>\n",
       "      <td>2830743.0</td>\n",
       "      <td>171.944390</td>\n",
       "      <td>3.054915e+02</td>\n",
       "      <td>0.000000e+00</td>\n",
       "      <td>6.0</td>\n",
       "      <td>57.200000</td>\n",
       "      <td>119.800000</td>\n",
       "      <td>3.337143e+03</td>\n",
       "    </tr>\n",
       "    <tr>\n",
       "      <th>Packet Length Std</th>\n",
       "      <td>2830743.0</td>\n",
       "      <td>294.975554</td>\n",
       "      <td>6.318001e+02</td>\n",
       "      <td>0.000000e+00</td>\n",
       "      <td>0.0</td>\n",
       "      <td>25.980762</td>\n",
       "      <td>174.323949</td>\n",
       "      <td>4.731522e+03</td>\n",
       "    </tr>\n",
       "    <tr>\n",
       "      <th>Average Packet Size</th>\n",
       "      <td>2830743.0</td>\n",
       "      <td>191.983658</td>\n",
       "      <td>3.318603e+02</td>\n",
       "      <td>0.000000e+00</td>\n",
       "      <td>7.5</td>\n",
       "      <td>72.250000</td>\n",
       "      <td>149.263932</td>\n",
       "      <td>3.893333e+03</td>\n",
       "    </tr>\n",
       "    <tr>\n",
       "      <th>Avg Fwd Segment Size</th>\n",
       "      <td>2830743.0</td>\n",
       "      <td>58.201939</td>\n",
       "      <td>1.860912e+02</td>\n",
       "      <td>0.000000e+00</td>\n",
       "      <td>6.0</td>\n",
       "      <td>34.000000</td>\n",
       "      <td>50.000000</td>\n",
       "      <td>5.940857e+03</td>\n",
       "    </tr>\n",
       "    <tr>\n",
       "      <th>Avg Bwd Segment Size</th>\n",
       "      <td>2830743.0</td>\n",
       "      <td>305.949281</td>\n",
       "      <td>6.052568e+02</td>\n",
       "      <td>0.000000e+00</td>\n",
       "      <td>0.0</td>\n",
       "      <td>72.000000</td>\n",
       "      <td>181.000000</td>\n",
       "      <td>5.800500e+03</td>\n",
       "    </tr>\n",
       "    <tr>\n",
       "      <th>Subflow Fwd Bytes</th>\n",
       "      <td>2830743.0</td>\n",
       "      <td>549.291936</td>\n",
       "      <td>9.980070e+03</td>\n",
       "      <td>0.000000e+00</td>\n",
       "      <td>12.0</td>\n",
       "      <td>62.000000</td>\n",
       "      <td>187.000000</td>\n",
       "      <td>1.287034e+07</td>\n",
       "    </tr>\n",
       "    <tr>\n",
       "      <th>Init_Win_bytes_backward</th>\n",
       "      <td>2830743.0</td>\n",
       "      <td>1989.432977</td>\n",
       "      <td>8.456883e+03</td>\n",
       "      <td>-1.000000e+00</td>\n",
       "      <td>-1.0</td>\n",
       "      <td>-1.000000</td>\n",
       "      <td>235.000000</td>\n",
       "      <td>6.553500e+04</td>\n",
       "    </tr>\n",
       "  </tbody>\n",
       "</table>\n",
       "</div>"
      ],
      "text/plain": [
       "                                 count         mean           std  \\\n",
       "Total Length of Fwd Packets  2830743.0   549.302415  9.993589e+03   \n",
       "Fwd Packet Length Max        2830743.0   207.599941  7.171848e+02   \n",
       "Fwd Packet Length Mean       2830743.0    58.201939  1.860912e+02   \n",
       "Bwd Packet Length Max        2830743.0   870.849455  1.946367e+03   \n",
       "Bwd Packet Length Mean       2830743.0   305.949281  6.052568e+02   \n",
       "Bwd Header Length            2830743.0 -2273.275320  1.452209e+06   \n",
       "Max Packet Length            2830743.0   950.402445  2.028229e+03   \n",
       "Packet Length Mean           2830743.0   171.944390  3.054915e+02   \n",
       "Packet Length Std            2830743.0   294.975554  6.318001e+02   \n",
       "Average Packet Size          2830743.0   191.983658  3.318603e+02   \n",
       "Avg Fwd Segment Size         2830743.0    58.201939  1.860912e+02   \n",
       "Avg Bwd Segment Size         2830743.0   305.949281  6.052568e+02   \n",
       "Subflow Fwd Bytes            2830743.0   549.291936  9.980070e+03   \n",
       "Init_Win_bytes_backward      2830743.0  1989.432977  8.456883e+03   \n",
       "\n",
       "                                      min   25%        50%         75%  \\\n",
       "Total Length of Fwd Packets  0.000000e+00  12.0  62.000000  187.000000   \n",
       "Fwd Packet Length Max        0.000000e+00   6.0  37.000000   81.000000   \n",
       "Fwd Packet Length Mean       0.000000e+00   6.0  34.000000   50.000000   \n",
       "Bwd Packet Length Max        0.000000e+00   0.0  79.000000  280.000000   \n",
       "Bwd Packet Length Mean       0.000000e+00   0.0  72.000000  181.000000   \n",
       "Bwd Header Length           -1.073741e+09  20.0  40.000000  104.000000   \n",
       "Max Packet Length            0.000000e+00   6.0  87.000000  525.000000   \n",
       "Packet Length Mean           0.000000e+00   6.0  57.200000  119.800000   \n",
       "Packet Length Std            0.000000e+00   0.0  25.980762  174.323949   \n",
       "Average Packet Size          0.000000e+00   7.5  72.250000  149.263932   \n",
       "Avg Fwd Segment Size         0.000000e+00   6.0  34.000000   50.000000   \n",
       "Avg Bwd Segment Size         0.000000e+00   0.0  72.000000  181.000000   \n",
       "Subflow Fwd Bytes            0.000000e+00  12.0  62.000000  187.000000   \n",
       "Init_Win_bytes_backward     -1.000000e+00  -1.0  -1.000000  235.000000   \n",
       "\n",
       "                                      max  \n",
       "Total Length of Fwd Packets  1.290000e+07  \n",
       "Fwd Packet Length Max        2.482000e+04  \n",
       "Fwd Packet Length Mean       5.940857e+03  \n",
       "Bwd Packet Length Max        1.953000e+04  \n",
       "Bwd Packet Length Mean       5.800500e+03  \n",
       "Bwd Header Length            5.838440e+06  \n",
       "Max Packet Length            2.482000e+04  \n",
       "Packet Length Mean           3.337143e+03  \n",
       "Packet Length Std            4.731522e+03  \n",
       "Average Packet Size          3.893333e+03  \n",
       "Avg Fwd Segment Size         5.940857e+03  \n",
       "Avg Bwd Segment Size         5.800500e+03  \n",
       "Subflow Fwd Bytes            1.287034e+07  \n",
       "Init_Win_bytes_backward      6.553500e+04  "
      ]
     },
     "execution_count": 24,
     "metadata": {},
     "output_type": "execute_result"
    }
   ],
   "source": [
    "pd.options.display.max_rows = 15\n",
    "warnings.simplefilter(\"ignore\", category=RuntimeWarning)\n",
    "print('Overview of Columns:')\n",
    "data.describe().transpose()"
   ]
  },
  {
   "cell_type": "code",
   "execution_count": 25,
   "metadata": {
    "colab": {
     "base_uri": "https://localhost:8080/"
    },
    "id": "y4UHpc39vmst",
    "outputId": "4c86e5e6-5ed1-4675-97c5-6f14850b86fa"
   },
   "outputs": [
    {
     "data": {
      "text/html": [
       "<div>\n",
       "<style scoped>\n",
       "    .dataframe tbody tr th:only-of-type {\n",
       "        vertical-align: middle;\n",
       "    }\n",
       "\n",
       "    .dataframe tbody tr th {\n",
       "        vertical-align: top;\n",
       "    }\n",
       "\n",
       "    .dataframe thead th {\n",
       "        text-align: right;\n",
       "    }\n",
       "</style>\n",
       "<table border=\"1\" class=\"dataframe\">\n",
       "  <thead>\n",
       "    <tr style=\"text-align: right;\">\n",
       "      <th></th>\n",
       "      <th>Total Length of Fwd Packets</th>\n",
       "      <th>Fwd Packet Length Max</th>\n",
       "      <th>Fwd Packet Length Mean</th>\n",
       "      <th>Bwd Packet Length Max</th>\n",
       "      <th>Bwd Packet Length Mean</th>\n",
       "      <th>Bwd Header Length</th>\n",
       "      <th>Max Packet Length</th>\n",
       "      <th>Packet Length Mean</th>\n",
       "      <th>Packet Length Std</th>\n",
       "      <th>Average Packet Size</th>\n",
       "      <th>Avg Fwd Segment Size</th>\n",
       "      <th>Avg Bwd Segment Size</th>\n",
       "      <th>Subflow Fwd Bytes</th>\n",
       "      <th>Init_Win_bytes_backward</th>\n",
       "      <th>Label</th>\n",
       "    </tr>\n",
       "  </thead>\n",
       "  <tbody>\n",
       "    <tr>\n",
       "      <th>0</th>\n",
       "      <td>12</td>\n",
       "      <td>6</td>\n",
       "      <td>6.0</td>\n",
       "      <td>0</td>\n",
       "      <td>0.0</td>\n",
       "      <td>0</td>\n",
       "      <td>6</td>\n",
       "      <td>6.0</td>\n",
       "      <td>0.0</td>\n",
       "      <td>9.0</td>\n",
       "      <td>6.0</td>\n",
       "      <td>0.0</td>\n",
       "      <td>12</td>\n",
       "      <td>-1</td>\n",
       "      <td>BENIGN</td>\n",
       "    </tr>\n",
       "    <tr>\n",
       "      <th>1</th>\n",
       "      <td>12</td>\n",
       "      <td>6</td>\n",
       "      <td>6.0</td>\n",
       "      <td>0</td>\n",
       "      <td>0.0</td>\n",
       "      <td>0</td>\n",
       "      <td>6</td>\n",
       "      <td>6.0</td>\n",
       "      <td>0.0</td>\n",
       "      <td>9.0</td>\n",
       "      <td>6.0</td>\n",
       "      <td>0.0</td>\n",
       "      <td>12</td>\n",
       "      <td>-1</td>\n",
       "      <td>BENIGN</td>\n",
       "    </tr>\n",
       "    <tr>\n",
       "      <th>2</th>\n",
       "      <td>12</td>\n",
       "      <td>6</td>\n",
       "      <td>6.0</td>\n",
       "      <td>0</td>\n",
       "      <td>0.0</td>\n",
       "      <td>0</td>\n",
       "      <td>6</td>\n",
       "      <td>6.0</td>\n",
       "      <td>0.0</td>\n",
       "      <td>9.0</td>\n",
       "      <td>6.0</td>\n",
       "      <td>0.0</td>\n",
       "      <td>12</td>\n",
       "      <td>-1</td>\n",
       "      <td>BENIGN</td>\n",
       "    </tr>\n",
       "    <tr>\n",
       "      <th>3</th>\n",
       "      <td>12</td>\n",
       "      <td>6</td>\n",
       "      <td>6.0</td>\n",
       "      <td>0</td>\n",
       "      <td>0.0</td>\n",
       "      <td>0</td>\n",
       "      <td>6</td>\n",
       "      <td>6.0</td>\n",
       "      <td>0.0</td>\n",
       "      <td>9.0</td>\n",
       "      <td>6.0</td>\n",
       "      <td>0.0</td>\n",
       "      <td>12</td>\n",
       "      <td>-1</td>\n",
       "      <td>BENIGN</td>\n",
       "    </tr>\n",
       "    <tr>\n",
       "      <th>4</th>\n",
       "      <td>12</td>\n",
       "      <td>6</td>\n",
       "      <td>6.0</td>\n",
       "      <td>0</td>\n",
       "      <td>0.0</td>\n",
       "      <td>0</td>\n",
       "      <td>6</td>\n",
       "      <td>6.0</td>\n",
       "      <td>0.0</td>\n",
       "      <td>9.0</td>\n",
       "      <td>6.0</td>\n",
       "      <td>0.0</td>\n",
       "      <td>12</td>\n",
       "      <td>-1</td>\n",
       "      <td>BENIGN</td>\n",
       "    </tr>\n",
       "    <tr>\n",
       "      <th>...</th>\n",
       "      <td>...</td>\n",
       "      <td>...</td>\n",
       "      <td>...</td>\n",
       "      <td>...</td>\n",
       "      <td>...</td>\n",
       "      <td>...</td>\n",
       "      <td>...</td>\n",
       "      <td>...</td>\n",
       "      <td>...</td>\n",
       "      <td>...</td>\n",
       "      <td>...</td>\n",
       "      <td>...</td>\n",
       "      <td>...</td>\n",
       "      <td>...</td>\n",
       "      <td>...</td>\n",
       "    </tr>\n",
       "    <tr>\n",
       "      <th>225740</th>\n",
       "      <td>6</td>\n",
       "      <td>6</td>\n",
       "      <td>6.0</td>\n",
       "      <td>6</td>\n",
       "      <td>6.0</td>\n",
       "      <td>20</td>\n",
       "      <td>6</td>\n",
       "      <td>6.0</td>\n",
       "      <td>0.0</td>\n",
       "      <td>9.0</td>\n",
       "      <td>6.0</td>\n",
       "      <td>6.0</td>\n",
       "      <td>6</td>\n",
       "      <td>253</td>\n",
       "      <td>BENIGN</td>\n",
       "    </tr>\n",
       "    <tr>\n",
       "      <th>225741</th>\n",
       "      <td>6</td>\n",
       "      <td>6</td>\n",
       "      <td>6.0</td>\n",
       "      <td>6</td>\n",
       "      <td>6.0</td>\n",
       "      <td>20</td>\n",
       "      <td>6</td>\n",
       "      <td>6.0</td>\n",
       "      <td>0.0</td>\n",
       "      <td>9.0</td>\n",
       "      <td>6.0</td>\n",
       "      <td>6.0</td>\n",
       "      <td>6</td>\n",
       "      <td>253</td>\n",
       "      <td>BENIGN</td>\n",
       "    </tr>\n",
       "    <tr>\n",
       "      <th>225742</th>\n",
       "      <td>6</td>\n",
       "      <td>6</td>\n",
       "      <td>6.0</td>\n",
       "      <td>6</td>\n",
       "      <td>6.0</td>\n",
       "      <td>20</td>\n",
       "      <td>6</td>\n",
       "      <td>6.0</td>\n",
       "      <td>0.0</td>\n",
       "      <td>9.0</td>\n",
       "      <td>6.0</td>\n",
       "      <td>6.0</td>\n",
       "      <td>6</td>\n",
       "      <td>253</td>\n",
       "      <td>BENIGN</td>\n",
       "    </tr>\n",
       "    <tr>\n",
       "      <th>225743</th>\n",
       "      <td>12</td>\n",
       "      <td>6</td>\n",
       "      <td>6.0</td>\n",
       "      <td>0</td>\n",
       "      <td>0.0</td>\n",
       "      <td>0</td>\n",
       "      <td>6</td>\n",
       "      <td>6.0</td>\n",
       "      <td>0.0</td>\n",
       "      <td>9.0</td>\n",
       "      <td>6.0</td>\n",
       "      <td>0.0</td>\n",
       "      <td>12</td>\n",
       "      <td>-1</td>\n",
       "      <td>BENIGN</td>\n",
       "    </tr>\n",
       "    <tr>\n",
       "      <th>225744</th>\n",
       "      <td>6</td>\n",
       "      <td>6</td>\n",
       "      <td>6.0</td>\n",
       "      <td>6</td>\n",
       "      <td>6.0</td>\n",
       "      <td>20</td>\n",
       "      <td>6</td>\n",
       "      <td>6.0</td>\n",
       "      <td>0.0</td>\n",
       "      <td>9.0</td>\n",
       "      <td>6.0</td>\n",
       "      <td>6.0</td>\n",
       "      <td>6</td>\n",
       "      <td>64240</td>\n",
       "      <td>BENIGN</td>\n",
       "    </tr>\n",
       "  </tbody>\n",
       "</table>\n",
       "<p>2830743 rows × 15 columns</p>\n",
       "</div>"
      ],
      "text/plain": [
       "        Total Length of Fwd Packets  Fwd Packet Length Max  \\\n",
       "0                                12                      6   \n",
       "1                                12                      6   \n",
       "2                                12                      6   \n",
       "3                                12                      6   \n",
       "4                                12                      6   \n",
       "...                             ...                    ...   \n",
       "225740                            6                      6   \n",
       "225741                            6                      6   \n",
       "225742                            6                      6   \n",
       "225743                           12                      6   \n",
       "225744                            6                      6   \n",
       "\n",
       "        Fwd Packet Length Mean  Bwd Packet Length Max  Bwd Packet Length Mean  \\\n",
       "0                          6.0                      0                     0.0   \n",
       "1                          6.0                      0                     0.0   \n",
       "2                          6.0                      0                     0.0   \n",
       "3                          6.0                      0                     0.0   \n",
       "4                          6.0                      0                     0.0   \n",
       "...                        ...                    ...                     ...   \n",
       "225740                     6.0                      6                     6.0   \n",
       "225741                     6.0                      6                     6.0   \n",
       "225742                     6.0                      6                     6.0   \n",
       "225743                     6.0                      0                     0.0   \n",
       "225744                     6.0                      6                     6.0   \n",
       "\n",
       "        Bwd Header Length  Max Packet Length  Packet Length Mean  \\\n",
       "0                       0                  6                 6.0   \n",
       "1                       0                  6                 6.0   \n",
       "2                       0                  6                 6.0   \n",
       "3                       0                  6                 6.0   \n",
       "4                       0                  6                 6.0   \n",
       "...                   ...                ...                 ...   \n",
       "225740                 20                  6                 6.0   \n",
       "225741                 20                  6                 6.0   \n",
       "225742                 20                  6                 6.0   \n",
       "225743                  0                  6                 6.0   \n",
       "225744                 20                  6                 6.0   \n",
       "\n",
       "        Packet Length Std  Average Packet Size  Avg Fwd Segment Size  \\\n",
       "0                     0.0                  9.0                   6.0   \n",
       "1                     0.0                  9.0                   6.0   \n",
       "2                     0.0                  9.0                   6.0   \n",
       "3                     0.0                  9.0                   6.0   \n",
       "4                     0.0                  9.0                   6.0   \n",
       "...                   ...                  ...                   ...   \n",
       "225740                0.0                  9.0                   6.0   \n",
       "225741                0.0                  9.0                   6.0   \n",
       "225742                0.0                  9.0                   6.0   \n",
       "225743                0.0                  9.0                   6.0   \n",
       "225744                0.0                  9.0                   6.0   \n",
       "\n",
       "        Avg Bwd Segment Size  Subflow Fwd Bytes  Init_Win_bytes_backward  \\\n",
       "0                        0.0                 12                       -1   \n",
       "1                        0.0                 12                       -1   \n",
       "2                        0.0                 12                       -1   \n",
       "3                        0.0                 12                       -1   \n",
       "4                        0.0                 12                       -1   \n",
       "...                      ...                ...                      ...   \n",
       "225740                   6.0                  6                      253   \n",
       "225741                   6.0                  6                      253   \n",
       "225742                   6.0                  6                      253   \n",
       "225743                   0.0                 12                       -1   \n",
       "225744                   6.0                  6                    64240   \n",
       "\n",
       "         Label  \n",
       "0       BENIGN  \n",
       "1       BENIGN  \n",
       "2       BENIGN  \n",
       "3       BENIGN  \n",
       "4       BENIGN  \n",
       "...        ...  \n",
       "225740  BENIGN  \n",
       "225741  BENIGN  \n",
       "225742  BENIGN  \n",
       "225743  BENIGN  \n",
       "225744  BENIGN  \n",
       "\n",
       "[2830743 rows x 15 columns]"
      ]
     },
     "execution_count": 25,
     "metadata": {},
     "output_type": "execute_result"
    }
   ],
   "source": [
    "pd.options.display.max_columns = 15\n",
    "data"
   ]
  },
  {
   "cell_type": "markdown",
   "metadata": {
    "id": "aSAAWG06ekQn"
   },
   "source": [
    "### Làm sạch dữ liệu"
   ]
  },
  {
   "cell_type": "code",
   "execution_count": 26,
   "metadata": {
    "colab": {
     "base_uri": "https://localhost:8080/"
    },
    "id": "BIsiR9JC1ccV",
    "outputId": "896135f3-ef18-450a-ca0a-f0e1d3fb62c7"
   },
   "outputs": [
    {
     "name": "stdout",
     "output_type": "stream",
     "text": [
      "Initial missing values: 0\n",
      "Missing values after processing infinite values: 0\n"
     ]
    }
   ],
   "source": [
    "# Replacing any infinite values (positive or negative) with NaN (not a number)\n",
    "print(f'Initial missing values: {data.isna().sum().sum()}')\n",
    "\n",
    "data.replace([np.inf, -np.inf], np.nan, inplace = True)\n",
    "\n",
    "print(f'Missing values after processing infinite values: {data.isna().sum().sum()}')"
   ]
  },
  {
   "cell_type": "code",
   "execution_count": 27,
   "metadata": {
    "colab": {
     "base_uri": "https://localhost:8080/"
    },
    "id": "SYdMMTNf3lqD",
    "outputId": "9c0ca587-c913-444f-abd2-73cb53af83d6"
   },
   "outputs": [
    {
     "name": "stdout",
     "output_type": "stream",
     "text": [
      "Series([], dtype: int64)\n"
     ]
    }
   ],
   "source": [
    "missing = data.isna().sum()\n",
    "print(missing.loc[missing > 0])"
   ]
  },
  {
   "cell_type": "code",
   "execution_count": 28,
   "metadata": {
    "colab": {
     "base_uri": "https://localhost:8080/"
    },
    "id": "-sPt__O_sjCd",
    "outputId": "7e48e48b-78da-45e2-e18c-886626af5760"
   },
   "outputs": [
    {
     "name": "stdout",
     "output_type": "stream",
     "text": [
      "Empty DataFrame\n",
      "Columns: [Missing Values, Percentage of Total Values]\n",
      "Index: []\n"
     ]
    }
   ],
   "source": [
    "# Calculating missing value percentage in the dataset\n",
    "mis_per = (missing / len(data)) * 100\n",
    "mis_table = pd.concat([missing, mis_per.round(2)], axis = 1)\n",
    "mis_table = mis_table.rename(columns = {0 : 'Missing Values', 1 : 'Percentage of Total Values'})\n",
    "\n",
    "print(mis_table.loc[mis_per > 0])"
   ]
  },
  {
   "cell_type": "markdown",
   "metadata": {
    "id": "MsSwQ-DOvm-6"
   },
   "source": [
    "### 2.3 Gộp label"
   ]
  },
  {
   "cell_type": "code",
   "execution_count": 29,
   "metadata": {
    "colab": {
     "base_uri": "https://localhost:8080/"
    },
    "id": "6no9oLuBvnST",
    "outputId": "ae75dd0c-010d-4383-e21a-95fc1f775d01"
   },
   "outputs": [
    {
     "data": {
      "text/plain": [
       "array(['BENIGN', 'FTP-Patator', 'SSH-Patator', 'DoS slowloris',\n",
       "       'DoS Slowhttptest', 'DoS Hulk', 'DoS GoldenEye', 'Heartbleed',\n",
       "       'Web Attack � Brute Force', 'Web Attack � XSS',\n",
       "       'Web Attack � Sql Injection', 'Infiltration', 'Bot', 'PortScan',\n",
       "       'DDoS'], dtype=object)"
      ]
     },
     "execution_count": 29,
     "metadata": {},
     "output_type": "execute_result"
    }
   ],
   "source": [
    "data['Label'].unique()"
   ]
  },
  {
   "cell_type": "markdown",
   "metadata": {
    "colab": {
     "base_uri": "https://localhost:8080/"
    },
    "id": "1c-cQD00vuL5",
    "outputId": "2417238c-b9cd-4685-f677-680eec2ff636"
   },
   "source": [
    "##### Types of attacks & normal instances (BENIGN)\n",
    "data['Label'].value_counts()"
   ]
  },
  {
   "cell_type": "code",
   "execution_count": 31,
   "metadata": {
    "id": "lt1zWoqUwKa0"
   },
   "outputs": [],
   "source": [
    "# Creating a dictionary that maps each label to its attack type\n",
    "attack_map = {\n",
    "    'BENIGN': 'BENIGN',\n",
    "    'DDoS': 'DDoS',\n",
    "    'DoS Hulk': 'DoS',\n",
    "    'DoS GoldenEye': 'DoS',\n",
    "    'DoS slowloris': 'DoS',\n",
    "    'DoS Slowhttptest': 'DoS',\n",
    "    'PortScan': 'Port Scan',\n",
    "    'FTP-Patator': 'Brute Force',\n",
    "    'SSH-Patator': 'Brute Force',\n",
    "    'Bot': 'Bot',\n",
    "    'Web Attack � Brute Force': 'Web Attack',\n",
    "    'Web Attack � XSS': 'Web Attack',\n",
    "    'Web Attack � Sql Injection': 'Web Attack',\n",
    "    'Infiltration': 'Infiltration',\n",
    "    'Heartbleed': 'Heartbleed'\n",
    "}\n",
    "\n",
    "# Creating a new column 'Attack Type' in the DataFrame based on the attack_map dictionary\n",
    "data['Attack Type'] = data['Label'].map(attack_map)"
   ]
  },
  {
   "cell_type": "code",
   "execution_count": 32,
   "metadata": {
    "colab": {
     "base_uri": "https://localhost:8080/"
    },
    "id": "SWLCTLRyxxW0",
    "outputId": "98919350-b090-45f2-cd23-b8ab201e52bc"
   },
   "outputs": [
    {
     "data": {
      "text/plain": [
       "Attack Type\n",
       "BENIGN          2273097\n",
       "DoS              252661\n",
       "Port Scan        158930\n",
       "DDoS             128027\n",
       "Brute Force       13835\n",
       "Web Attack         2180\n",
       "Bot                1966\n",
       "Infiltration         36\n",
       "Heartbleed           11\n",
       "Name: count, dtype: int64"
      ]
     },
     "execution_count": 32,
     "metadata": {},
     "output_type": "execute_result"
    }
   ],
   "source": [
    "data['Attack Type'].value_counts()"
   ]
  },
  {
   "cell_type": "code",
   "execution_count": 33,
   "metadata": {
    "id": "o4tyKwUlwTPw"
   },
   "outputs": [],
   "source": [
    "data.drop('Label', axis = 1, inplace = True)"
   ]
  },
  {
   "cell_type": "code",
   "execution_count": 34,
   "metadata": {
    "colab": {
     "base_uri": "https://localhost:8080/",
     "height": 646
    },
    "id": "gVvkohfgBMCT",
    "outputId": "4f875e7d-93fa-4a72-cd23-fe1cf3f08bca"
   },
   "outputs": [
    {
     "name": "stderr",
     "output_type": "stream",
     "text": [
      "C:\\Users\\duong\\AppData\\Local\\Temp\\ipykernel_14108\\323780027.py:5: FutureWarning: \n",
      "\n",
      "Passing `palette` without assigning `hue` is deprecated and will be removed in v0.14.0. Assign the `x` variable to `hue` and set `legend=False` for the same effect.\n",
      "\n",
      "  ax = sns.countplot(x = 'Attack Type', data = attacks, palette = 'pastel', order = attacks['Attack Type'].value_counts().index)\n"
     ]
    },
    {
     "data": {
      "image/png": "[encoded data removed]",
      "text/plain": [
       "<Figure size 1000x600 with 1 Axes>"
      ]
     },
     "metadata": {},
     "output_type": "display_data"
    }
   ],
   "source": [
    "# Different 'Attack Type' in the main dataset excluding 'BENIGN'\n",
    "attacks = data.loc[data['Attack Type'] != 'BENIGN']\n",
    "\n",
    "plt.figure(figsize = (10, 6))\n",
    "ax = sns.countplot(x = 'Attack Type', data = attacks, palette = 'pastel', order = attacks['Attack Type'].value_counts().index)\n",
    "plt.title('Types of attacks')\n",
    "plt.xlabel('Attack Type')\n",
    "plt.ylabel('Count')\n",
    "plt.xticks(rotation = 90)\n",
    "\n",
    "for p in ax.patches:\n",
    "    ax.annotate(f'{p.get_height():.0f}', (p.get_x() + p.get_width() / 2, p.get_height() + 1000), ha = 'center')\n",
    "\n",
    "plt.show()"
   ]
  },
  {
   "cell_type": "code",
   "execution_count": 35,
   "metadata": {
    "colab": {
     "base_uri": "https://localhost:8080/",
     "height": 675
    },
    "id": "_PQc5IIUBM0o",
    "outputId": "92a36639-36f4-45c4-d4a6-303e86128ba1"
   },
   "outputs": [
    {
     "data": {
      "image/png": "[encoded data removed]",
      "text/plain": [
       "<Figure size 800x800 with 1 Axes>"
      ]
     },
     "metadata": {},
     "output_type": "display_data"
    }
   ],
   "source": [
    "attack_counts = attacks['Attack Type'].value_counts()\n",
    "threshold = 0.005\n",
    "percentages = attack_counts / attack_counts.sum()\n",
    "small_slices = percentages[percentages < threshold].index.tolist()\n",
    "attack_counts['Other'] = attack_counts[small_slices].sum()\n",
    "attack_counts.drop(small_slices, inplace = True)\n",
    "\n",
    "sns.set_palette('pastel')\n",
    "plt.figure(figsize = (8, 8))\n",
    "plt.pie(attack_counts.values, labels = attack_counts.index, autopct = '%1.1f%%', textprops={'fontsize': 6})\n",
    "plt.title('Distribution of Attack Types')\n",
    "plt.legend(attack_counts.index, loc = 'best')\n",
    "plt.show()"
   ]
  },
  {
   "cell_type": "code",
   "execution_count": 36,
   "metadata": {
    "colab": {
     "base_uri": "https://localhost:8080/",
     "height": 487
    },
    "id": "ZRhokdjOBU1F",
    "outputId": "49cf3e10-cf3f-4c3b-c9cf-6bd27efb0daf"
   },
   "outputs": [
    {
     "data": {
      "text/html": [
       "<div>\n",
       "<style scoped>\n",
       "    .dataframe tbody tr th:only-of-type {\n",
       "        vertical-align: middle;\n",
       "    }\n",
       "\n",
       "    .dataframe tbody tr th {\n",
       "        vertical-align: top;\n",
       "    }\n",
       "\n",
       "    .dataframe thead th {\n",
       "        text-align: right;\n",
       "    }\n",
       "</style>\n",
       "<table border=\"1\" class=\"dataframe\">\n",
       "  <thead>\n",
       "    <tr style=\"text-align: right;\">\n",
       "      <th></th>\n",
       "      <th>Total Length of Fwd Packets</th>\n",
       "      <th>Fwd Packet Length Max</th>\n",
       "      <th>Fwd Packet Length Mean</th>\n",
       "      <th>Bwd Packet Length Max</th>\n",
       "      <th>Bwd Packet Length Mean</th>\n",
       "      <th>Bwd Header Length</th>\n",
       "      <th>Max Packet Length</th>\n",
       "      <th>Packet Length Mean</th>\n",
       "      <th>Packet Length Std</th>\n",
       "      <th>Average Packet Size</th>\n",
       "      <th>Avg Fwd Segment Size</th>\n",
       "      <th>Avg Bwd Segment Size</th>\n",
       "      <th>Subflow Fwd Bytes</th>\n",
       "      <th>Init_Win_bytes_backward</th>\n",
       "    </tr>\n",
       "    <tr>\n",
       "      <th>Attack Type</th>\n",
       "      <th></th>\n",
       "      <th></th>\n",
       "      <th></th>\n",
       "      <th></th>\n",
       "      <th></th>\n",
       "      <th></th>\n",
       "      <th></th>\n",
       "      <th></th>\n",
       "      <th></th>\n",
       "      <th></th>\n",
       "      <th></th>\n",
       "      <th></th>\n",
       "      <th></th>\n",
       "      <th></th>\n",
       "    </tr>\n",
       "  </thead>\n",
       "  <tbody>\n",
       "    <tr>\n",
       "      <th>BENIGN</th>\n",
       "      <td>12</td>\n",
       "      <td>6</td>\n",
       "      <td>6.000000</td>\n",
       "      <td>0</td>\n",
       "      <td>0.000000</td>\n",
       "      <td>0</td>\n",
       "      <td>6</td>\n",
       "      <td>6.000000</td>\n",
       "      <td>0.000000</td>\n",
       "      <td>9.000000</td>\n",
       "      <td>6.000000</td>\n",
       "      <td>0.000000</td>\n",
       "      <td>12</td>\n",
       "      <td>-1</td>\n",
       "    </tr>\n",
       "    <tr>\n",
       "      <th>Bot</th>\n",
       "      <td>322</td>\n",
       "      <td>322</td>\n",
       "      <td>35.777778</td>\n",
       "      <td>256</td>\n",
       "      <td>28.444444</td>\n",
       "      <td>296</td>\n",
       "      <td>322</td>\n",
       "      <td>30.421053</td>\n",
       "      <td>91.783753</td>\n",
       "      <td>32.111111</td>\n",
       "      <td>35.777778</td>\n",
       "      <td>28.444444</td>\n",
       "      <td>322</td>\n",
       "      <td>110</td>\n",
       "    </tr>\n",
       "    <tr>\n",
       "      <th>Brute Force</th>\n",
       "      <td>0</td>\n",
       "      <td>0</td>\n",
       "      <td>0.000000</td>\n",
       "      <td>0</td>\n",
       "      <td>0.000000</td>\n",
       "      <td>40</td>\n",
       "      <td>0</td>\n",
       "      <td>0.000000</td>\n",
       "      <td>0.000000</td>\n",
       "      <td>0.000000</td>\n",
       "      <td>0.000000</td>\n",
       "      <td>0.000000</td>\n",
       "      <td>0</td>\n",
       "      <td>28960</td>\n",
       "    </tr>\n",
       "    <tr>\n",
       "      <th>DDoS</th>\n",
       "      <td>26</td>\n",
       "      <td>20</td>\n",
       "      <td>8.666667</td>\n",
       "      <td>5840</td>\n",
       "      <td>1658.142857</td>\n",
       "      <td>152</td>\n",
       "      <td>5840</td>\n",
       "      <td>1057.545455</td>\n",
       "      <td>1853.437529</td>\n",
       "      <td>1163.300000</td>\n",
       "      <td>8.666667</td>\n",
       "      <td>1658.142857</td>\n",
       "      <td>26</td>\n",
       "      <td>229</td>\n",
       "    </tr>\n",
       "    <tr>\n",
       "      <th>DoS</th>\n",
       "      <td>1101</td>\n",
       "      <td>410</td>\n",
       "      <td>137.625000</td>\n",
       "      <td>3525</td>\n",
       "      <td>703.666667</td>\n",
       "      <td>132</td>\n",
       "      <td>3525</td>\n",
       "      <td>354.866667</td>\n",
       "      <td>895.115146</td>\n",
       "      <td>380.214286</td>\n",
       "      <td>137.625000</td>\n",
       "      <td>703.666667</td>\n",
       "      <td>1101</td>\n",
       "      <td>254</td>\n",
       "    </tr>\n",
       "    <tr>\n",
       "      <th>Heartbleed</th>\n",
       "      <td>8299</td>\n",
       "      <td>517</td>\n",
       "      <td>3.090875</td>\n",
       "      <td>17376</td>\n",
       "      <td>4370.686524</td>\n",
       "      <td>55336</td>\n",
       "      <td>17376</td>\n",
       "      <td>1713.525708</td>\n",
       "      <td>2669.389319</td>\n",
       "      <td>1713.913910</td>\n",
       "      <td>3.090875</td>\n",
       "      <td>4370.686524</td>\n",
       "      <td>8299</td>\n",
       "      <td>235</td>\n",
       "    </tr>\n",
       "    <tr>\n",
       "      <th>Infiltration</th>\n",
       "      <td>141</td>\n",
       "      <td>93</td>\n",
       "      <td>28.200000</td>\n",
       "      <td>267</td>\n",
       "      <td>48.500000</td>\n",
       "      <td>132</td>\n",
       "      <td>267</td>\n",
       "      <td>36.000000</td>\n",
       "      <td>77.399789</td>\n",
       "      <td>39.272727</td>\n",
       "      <td>28.200000</td>\n",
       "      <td>48.500000</td>\n",
       "      <td>141</td>\n",
       "      <td>229</td>\n",
       "    </tr>\n",
       "    <tr>\n",
       "      <th>Port Scan</th>\n",
       "      <td>703</td>\n",
       "      <td>356</td>\n",
       "      <td>117.166667</td>\n",
       "      <td>1050</td>\n",
       "      <td>282.800000</td>\n",
       "      <td>168</td>\n",
       "      <td>1050</td>\n",
       "      <td>176.416667</td>\n",
       "      <td>317.471103</td>\n",
       "      <td>192.454545</td>\n",
       "      <td>117.166667</td>\n",
       "      <td>282.800000</td>\n",
       "      <td>703</td>\n",
       "      <td>243</td>\n",
       "    </tr>\n",
       "    <tr>\n",
       "      <th>Web Attack</th>\n",
       "      <td>1022</td>\n",
       "      <td>372</td>\n",
       "      <td>146.000000</td>\n",
       "      <td>1047</td>\n",
       "      <td>331.571429</td>\n",
       "      <td>232</td>\n",
       "      <td>1047</td>\n",
       "      <td>222.866667</td>\n",
       "      <td>331.323939</td>\n",
       "      <td>238.785714</td>\n",
       "      <td>146.000000</td>\n",
       "      <td>331.571429</td>\n",
       "      <td>1022</td>\n",
       "      <td>252</td>\n",
       "    </tr>\n",
       "  </tbody>\n",
       "</table>\n",
       "</div>"
      ],
      "text/plain": [
       "              Total Length of Fwd Packets  Fwd Packet Length Max  \\\n",
       "Attack Type                                                        \n",
       "BENIGN                                 12                      6   \n",
       "Bot                                   322                    322   \n",
       "Brute Force                             0                      0   \n",
       "DDoS                                   26                     20   \n",
       "DoS                                  1101                    410   \n",
       "Heartbleed                           8299                    517   \n",
       "Infiltration                          141                     93   \n",
       "Port Scan                             703                    356   \n",
       "Web Attack                           1022                    372   \n",
       "\n",
       "              Fwd Packet Length Mean  Bwd Packet Length Max  \\\n",
       "Attack Type                                                   \n",
       "BENIGN                      6.000000                      0   \n",
       "Bot                        35.777778                    256   \n",
       "Brute Force                 0.000000                      0   \n",
       "DDoS                        8.666667                   5840   \n",
       "DoS                       137.625000                   3525   \n",
       "Heartbleed                  3.090875                  17376   \n",
       "Infiltration               28.200000                    267   \n",
       "Port Scan                 117.166667                   1050   \n",
       "Web Attack                146.000000                   1047   \n",
       "\n",
       "              Bwd Packet Length Mean  Bwd Header Length  Max Packet Length  \\\n",
       "Attack Type                                                                  \n",
       "BENIGN                      0.000000                  0                  6   \n",
       "Bot                        28.444444                296                322   \n",
       "Brute Force                 0.000000                 40                  0   \n",
       "DDoS                     1658.142857                152               5840   \n",
       "DoS                       703.666667                132               3525   \n",
       "Heartbleed               4370.686524              55336              17376   \n",
       "Infiltration               48.500000                132                267   \n",
       "Port Scan                 282.800000                168               1050   \n",
       "Web Attack                331.571429                232               1047   \n",
       "\n",
       "              Packet Length Mean  Packet Length Std  Average Packet Size  \\\n",
       "Attack Type                                                                \n",
       "BENIGN                  6.000000           0.000000             9.000000   \n",
       "Bot                    30.421053          91.783753            32.111111   \n",
       "Brute Force             0.000000           0.000000             0.000000   \n",
       "DDoS                 1057.545455        1853.437529          1163.300000   \n",
       "DoS                   354.866667         895.115146           380.214286   \n",
       "Heartbleed           1713.525708        2669.389319          1713.913910   \n",
       "Infiltration           36.000000          77.399789            39.272727   \n",
       "Port Scan             176.416667         317.471103           192.454545   \n",
       "Web Attack            222.866667         331.323939           238.785714   \n",
       "\n",
       "              Avg Fwd Segment Size  Avg Bwd Segment Size  Subflow Fwd Bytes  \\\n",
       "Attack Type                                                                   \n",
       "BENIGN                    6.000000              0.000000                 12   \n",
       "Bot                      35.777778             28.444444                322   \n",
       "Brute Force               0.000000              0.000000                  0   \n",
       "DDoS                      8.666667           1658.142857                 26   \n",
       "DoS                     137.625000            703.666667               1101   \n",
       "Heartbleed                3.090875           4370.686524               8299   \n",
       "Infiltration             28.200000             48.500000                141   \n",
       "Port Scan               117.166667            282.800000                703   \n",
       "Web Attack              146.000000            331.571429               1022   \n",
       "\n",
       "              Init_Win_bytes_backward  \n",
       "Attack Type                            \n",
       "BENIGN                             -1  \n",
       "Bot                               110  \n",
       "Brute Force                     28960  \n",
       "DDoS                              229  \n",
       "DoS                               254  \n",
       "Heartbleed                        235  \n",
       "Infiltration                      229  \n",
       "Port Scan                         243  \n",
       "Web Attack                        252  "
      ]
     },
     "execution_count": 36,
     "metadata": {},
     "output_type": "execute_result"
    }
   ],
   "source": [
    "data.groupby('Attack Type').first()"
   ]
  },
  {
   "cell_type": "markdown",
   "metadata": {
    "id": "NJ9tbZTRxHVU"
   },
   "source": [
    "## 3. Tiền xử lý dữ liệu"
   ]
  },
  {
   "cell_type": "markdown",
   "metadata": {
    "id": "nNRw8GcEQ-st"
   },
   "source": [
    "### Downcast từ float64 thành float32"
   ]
  },
  {
   "cell_type": "code",
   "execution_count": 37,
   "metadata": {
    "colab": {
     "base_uri": "https://localhost:8080/"
    },
    "id": "dAqW7PSTnsf-",
    "outputId": "fceb4cd3-0a18-4dfc-b83b-3ef55de730e0"
   },
   "outputs": [
    {
     "name": "stdout",
     "output_type": "stream",
     "text": [
      "Initial memory usage: 345.55 MB\n",
      "Final memory usage: 194.37 MB\n"
     ]
    }
   ],
   "source": [
    "# For improving performance and reduce memory-related errors\n",
    "old_memory_usage = data.memory_usage().sum() / 1024 ** 2\n",
    "print(f'Initial memory usage: {old_memory_usage:.2f} MB')\n",
    "for col in data.columns:\n",
    "    col_type = data[col].dtype\n",
    "    if col_type != object:\n",
    "        c_min = data[col].min()\n",
    "        c_max = data[col].max()\n",
    "        # Downcasting float64 to float32\n",
    "        if str(col_type).find('float') >= 0 and c_min > np.finfo(np.float32).min and c_max < np.finfo(np.float32).max:\n",
    "            data[col] = data[col].astype(np.float32)\n",
    "\n",
    "        # Downcasting int64 to int32\n",
    "        elif str(col_type).find('int') >= 0 and c_min > np.iinfo(np.int32).min and c_max < np.iinfo(np.int32).max:\n",
    "            data[col] = data[col].astype(np.int32)\n",
    "\n",
    "new_memory_usage = data.memory_usage().sum() / 1024 ** 2\n",
    "print(f\"Final memory usage: {new_memory_usage:.2f} MB\")"
   ]
  },
  {
   "cell_type": "code",
   "execution_count": 38,
   "metadata": {
    "colab": {
     "base_uri": "https://localhost:8080/"
    },
    "id": "ncQeTyOOpl1N",
    "outputId": "4f1136d4-55fe-4f85-f6f3-31b10d1bc236"
   },
   "outputs": [
    {
     "name": "stdout",
     "output_type": "stream",
     "text": [
      "Reduced memory usage: 43.75%\n"
     ]
    }
   ],
   "source": [
    "# Calculating percentage reduction in memory usage\n",
    "print(f'Reduced memory usage: {1 - (new_memory_usage / old_memory_usage):.2%}')"
   ]
  },
  {
   "cell_type": "code",
   "execution_count": 39,
   "metadata": {
    "colab": {
     "base_uri": "https://localhost:8080/"
    },
    "id": "YCZ4UmTaB_I7",
    "outputId": "5c1bce54-bba4-4a72-b07b-8b3a974190d2"
   },
   "outputs": [
    {
     "name": "stdout",
     "output_type": "stream",
     "text": [
      "<class 'pandas.core.frame.DataFrame'>\n",
      "Index: 2830743 entries, 0 to 225744\n",
      "Data columns (total 15 columns):\n",
      " #   Column                       Dtype  \n",
      "---  ------                       -----  \n",
      " 0   Total Length of Fwd Packets  int32  \n",
      " 1   Fwd Packet Length Max        int32  \n",
      " 2   Fwd Packet Length Mean       float32\n",
      " 3   Bwd Packet Length Max        int32  \n",
      " 4   Bwd Packet Length Mean       float32\n",
      " 5   Bwd Header Length            int32  \n",
      " 6   Max Packet Length            int32  \n",
      " 7   Packet Length Mean           float32\n",
      " 8   Packet Length Std            float32\n",
      " 9   Average Packet Size          float32\n",
      " 10  Avg Fwd Segment Size         float32\n",
      " 11  Avg Bwd Segment Size         float32\n",
      " 12  Subflow Fwd Bytes            int32  \n",
      " 13  Init_Win_bytes_backward      int32  \n",
      " 14  Attack Type                  object \n",
      "dtypes: float32(7), int32(7), object(1)\n",
      "memory usage: 194.4+ MB\n"
     ]
    }
   ],
   "source": [
    "data.info()"
   ]
  },
  {
   "cell_type": "code",
   "execution_count": 40,
   "metadata": {
    "colab": {
     "base_uri": "https://localhost:8080/",
     "height": 1000
    },
    "id": "vFidCf0oqvii",
    "outputId": "cbf2228b-484f-4c7e-e43b-781afa3870b6"
   },
   "outputs": [
    {
     "data": {
      "text/html": [
       "<div>\n",
       "<style scoped>\n",
       "    .dataframe tbody tr th:only-of-type {\n",
       "        vertical-align: middle;\n",
       "    }\n",
       "\n",
       "    .dataframe tbody tr th {\n",
       "        vertical-align: top;\n",
       "    }\n",
       "\n",
       "    .dataframe thead th {\n",
       "        text-align: right;\n",
       "    }\n",
       "</style>\n",
       "<table border=\"1\" class=\"dataframe\">\n",
       "  <thead>\n",
       "    <tr style=\"text-align: right;\">\n",
       "      <th></th>\n",
       "      <th>count</th>\n",
       "      <th>mean</th>\n",
       "      <th>std</th>\n",
       "      <th>min</th>\n",
       "      <th>25%</th>\n",
       "      <th>50%</th>\n",
       "      <th>75%</th>\n",
       "      <th>max</th>\n",
       "    </tr>\n",
       "  </thead>\n",
       "  <tbody>\n",
       "    <tr>\n",
       "      <th>Total Length of Fwd Packets</th>\n",
       "      <td>2830743.0</td>\n",
       "      <td>549.302415</td>\n",
       "      <td>9.993589e+03</td>\n",
       "      <td>0.000000e+00</td>\n",
       "      <td>12.0</td>\n",
       "      <td>62.000000</td>\n",
       "      <td>187.000000</td>\n",
       "      <td>1.290000e+07</td>\n",
       "    </tr>\n",
       "    <tr>\n",
       "      <th>Fwd Packet Length Max</th>\n",
       "      <td>2830743.0</td>\n",
       "      <td>207.599941</td>\n",
       "      <td>7.171848e+02</td>\n",
       "      <td>0.000000e+00</td>\n",
       "      <td>6.0</td>\n",
       "      <td>37.000000</td>\n",
       "      <td>81.000000</td>\n",
       "      <td>2.482000e+04</td>\n",
       "    </tr>\n",
       "    <tr>\n",
       "      <th>Fwd Packet Length Mean</th>\n",
       "      <td>2830743.0</td>\n",
       "      <td>58.201962</td>\n",
       "      <td>1.860912e+02</td>\n",
       "      <td>0.000000e+00</td>\n",
       "      <td>6.0</td>\n",
       "      <td>34.000000</td>\n",
       "      <td>50.000000</td>\n",
       "      <td>5.940857e+03</td>\n",
       "    </tr>\n",
       "    <tr>\n",
       "      <th>Bwd Packet Length Max</th>\n",
       "      <td>2830743.0</td>\n",
       "      <td>870.849455</td>\n",
       "      <td>1.946367e+03</td>\n",
       "      <td>0.000000e+00</td>\n",
       "      <td>0.0</td>\n",
       "      <td>79.000000</td>\n",
       "      <td>280.000000</td>\n",
       "      <td>1.953000e+04</td>\n",
       "    </tr>\n",
       "    <tr>\n",
       "      <th>Bwd Packet Length Mean</th>\n",
       "      <td>2830743.0</td>\n",
       "      <td>305.949310</td>\n",
       "      <td>6.052568e+02</td>\n",
       "      <td>0.000000e+00</td>\n",
       "      <td>0.0</td>\n",
       "      <td>72.000000</td>\n",
       "      <td>181.000000</td>\n",
       "      <td>5.800500e+03</td>\n",
       "    </tr>\n",
       "    <tr>\n",
       "      <th>Bwd Header Length</th>\n",
       "      <td>2830743.0</td>\n",
       "      <td>-2273.275320</td>\n",
       "      <td>1.452209e+06</td>\n",
       "      <td>-1.073741e+09</td>\n",
       "      <td>20.0</td>\n",
       "      <td>40.000000</td>\n",
       "      <td>104.000000</td>\n",
       "      <td>5.838440e+06</td>\n",
       "    </tr>\n",
       "    <tr>\n",
       "      <th>Max Packet Length</th>\n",
       "      <td>2830743.0</td>\n",
       "      <td>950.402445</td>\n",
       "      <td>2.028229e+03</td>\n",
       "      <td>0.000000e+00</td>\n",
       "      <td>6.0</td>\n",
       "      <td>87.000000</td>\n",
       "      <td>525.000000</td>\n",
       "      <td>2.482000e+04</td>\n",
       "    </tr>\n",
       "    <tr>\n",
       "      <th>Packet Length Mean</th>\n",
       "      <td>2830743.0</td>\n",
       "      <td>171.944427</td>\n",
       "      <td>3.054915e+02</td>\n",
       "      <td>0.000000e+00</td>\n",
       "      <td>6.0</td>\n",
       "      <td>57.200001</td>\n",
       "      <td>119.800003</td>\n",
       "      <td>3.337143e+03</td>\n",
       "    </tr>\n",
       "    <tr>\n",
       "      <th>Packet Length Std</th>\n",
       "      <td>2830743.0</td>\n",
       "      <td>294.975433</td>\n",
       "      <td>6.318001e+02</td>\n",
       "      <td>0.000000e+00</td>\n",
       "      <td>0.0</td>\n",
       "      <td>25.980762</td>\n",
       "      <td>174.323952</td>\n",
       "      <td>4.731522e+03</td>\n",
       "    </tr>\n",
       "    <tr>\n",
       "      <th>Average Packet Size</th>\n",
       "      <td>2830743.0</td>\n",
       "      <td>191.983704</td>\n",
       "      <td>3.318604e+02</td>\n",
       "      <td>0.000000e+00</td>\n",
       "      <td>7.5</td>\n",
       "      <td>72.250000</td>\n",
       "      <td>149.263931</td>\n",
       "      <td>3.893333e+03</td>\n",
       "    </tr>\n",
       "    <tr>\n",
       "      <th>Avg Fwd Segment Size</th>\n",
       "      <td>2830743.0</td>\n",
       "      <td>58.201962</td>\n",
       "      <td>1.860912e+02</td>\n",
       "      <td>0.000000e+00</td>\n",
       "      <td>6.0</td>\n",
       "      <td>34.000000</td>\n",
       "      <td>50.000000</td>\n",
       "      <td>5.940857e+03</td>\n",
       "    </tr>\n",
       "    <tr>\n",
       "      <th>Avg Bwd Segment Size</th>\n",
       "      <td>2830743.0</td>\n",
       "      <td>305.949310</td>\n",
       "      <td>6.052568e+02</td>\n",
       "      <td>0.000000e+00</td>\n",
       "      <td>0.0</td>\n",
       "      <td>72.000000</td>\n",
       "      <td>181.000000</td>\n",
       "      <td>5.800500e+03</td>\n",
       "    </tr>\n",
       "    <tr>\n",
       "      <th>Subflow Fwd Bytes</th>\n",
       "      <td>2830743.0</td>\n",
       "      <td>549.291936</td>\n",
       "      <td>9.980070e+03</td>\n",
       "      <td>0.000000e+00</td>\n",
       "      <td>12.0</td>\n",
       "      <td>62.000000</td>\n",
       "      <td>187.000000</td>\n",
       "      <td>1.287034e+07</td>\n",
       "    </tr>\n",
       "    <tr>\n",
       "      <th>Init_Win_bytes_backward</th>\n",
       "      <td>2830743.0</td>\n",
       "      <td>1989.432977</td>\n",
       "      <td>8.456883e+03</td>\n",
       "      <td>-1.000000e+00</td>\n",
       "      <td>-1.0</td>\n",
       "      <td>-1.000000</td>\n",
       "      <td>235.000000</td>\n",
       "      <td>6.553500e+04</td>\n",
       "    </tr>\n",
       "  </tbody>\n",
       "</table>\n",
       "</div>"
      ],
      "text/plain": [
       "                                 count         mean           std  \\\n",
       "Total Length of Fwd Packets  2830743.0   549.302415  9.993589e+03   \n",
       "Fwd Packet Length Max        2830743.0   207.599941  7.171848e+02   \n",
       "Fwd Packet Length Mean       2830743.0    58.201962  1.860912e+02   \n",
       "Bwd Packet Length Max        2830743.0   870.849455  1.946367e+03   \n",
       "Bwd Packet Length Mean       2830743.0   305.949310  6.052568e+02   \n",
       "Bwd Header Length            2830743.0 -2273.275320  1.452209e+06   \n",
       "Max Packet Length            2830743.0   950.402445  2.028229e+03   \n",
       "Packet Length Mean           2830743.0   171.944427  3.054915e+02   \n",
       "Packet Length Std            2830743.0   294.975433  6.318001e+02   \n",
       "Average Packet Size          2830743.0   191.983704  3.318604e+02   \n",
       "Avg Fwd Segment Size         2830743.0    58.201962  1.860912e+02   \n",
       "Avg Bwd Segment Size         2830743.0   305.949310  6.052568e+02   \n",
       "Subflow Fwd Bytes            2830743.0   549.291936  9.980070e+03   \n",
       "Init_Win_bytes_backward      2830743.0  1989.432977  8.456883e+03   \n",
       "\n",
       "                                      min   25%        50%         75%  \\\n",
       "Total Length of Fwd Packets  0.000000e+00  12.0  62.000000  187.000000   \n",
       "Fwd Packet Length Max        0.000000e+00   6.0  37.000000   81.000000   \n",
       "Fwd Packet Length Mean       0.000000e+00   6.0  34.000000   50.000000   \n",
       "Bwd Packet Length Max        0.000000e+00   0.0  79.000000  280.000000   \n",
       "Bwd Packet Length Mean       0.000000e+00   0.0  72.000000  181.000000   \n",
       "Bwd Header Length           -1.073741e+09  20.0  40.000000  104.000000   \n",
       "Max Packet Length            0.000000e+00   6.0  87.000000  525.000000   \n",
       "Packet Length Mean           0.000000e+00   6.0  57.200001  119.800003   \n",
       "Packet Length Std            0.000000e+00   0.0  25.980762  174.323952   \n",
       "Average Packet Size          0.000000e+00   7.5  72.250000  149.263931   \n",
       "Avg Fwd Segment Size         0.000000e+00   6.0  34.000000   50.000000   \n",
       "Avg Bwd Segment Size         0.000000e+00   0.0  72.000000  181.000000   \n",
       "Subflow Fwd Bytes            0.000000e+00  12.0  62.000000  187.000000   \n",
       "Init_Win_bytes_backward     -1.000000e+00  -1.0  -1.000000  235.000000   \n",
       "\n",
       "                                      max  \n",
       "Total Length of Fwd Packets  1.290000e+07  \n",
       "Fwd Packet Length Max        2.482000e+04  \n",
       "Fwd Packet Length Mean       5.940857e+03  \n",
       "Bwd Packet Length Max        1.953000e+04  \n",
       "Bwd Packet Length Mean       5.800500e+03  \n",
       "Bwd Header Length            5.838440e+06  \n",
       "Max Packet Length            2.482000e+04  \n",
       "Packet Length Mean           3.337143e+03  \n",
       "Packet Length Std            4.731522e+03  \n",
       "Average Packet Size          3.893333e+03  \n",
       "Avg Fwd Segment Size         5.940857e+03  \n",
       "Avg Bwd Segment Size         5.800500e+03  \n",
       "Subflow Fwd Bytes            1.287034e+07  \n",
       "Init_Win_bytes_backward      6.553500e+04  "
      ]
     },
     "execution_count": 40,
     "metadata": {},
     "output_type": "execute_result"
    }
   ],
   "source": [
    "data.describe().transpose()"
   ]
  },
  {
   "cell_type": "code",
   "execution_count": 42,
   "metadata": {
    "colab": {
     "base_uri": "https://localhost:8080/"
    },
    "id": "UA8wz7Y0kj0g",
    "outputId": "1edcb84e-0212-4051-f446-bdb6789e008a"
   },
   "outputs": [
    {
     "data": {
      "text/plain": [
       "(2830743, 15)"
      ]
     },
     "execution_count": 42,
     "metadata": {},
     "output_type": "execute_result"
    }
   ],
   "source": [
    "data.shape"
   ]
  },
  {
   "cell_type": "code",
   "execution_count": 43,
   "metadata": {
    "colab": {
     "base_uri": "https://localhost:8080/"
    },
    "id": "7R4OKANLsibW",
    "outputId": "c4cb0c23-8ccb-49f3-8a2f-6f44c030e9c6"
   },
   "outputs": [
    {
     "data": {
      "text/plain": [
       "Index(['Total Length of Fwd Packets', 'Fwd Packet Length Max',\n",
       "       'Fwd Packet Length Mean', 'Bwd Packet Length Max',\n",
       "       'Bwd Packet Length Mean', 'Bwd Header Length', 'Max Packet Length',\n",
       "       'Packet Length Mean', 'Packet Length Std', 'Average Packet Size',\n",
       "       'Avg Fwd Segment Size', 'Avg Bwd Segment Size', 'Subflow Fwd Bytes',\n",
       "       'Init_Win_bytes_backward', 'Attack Type'],\n",
       "      dtype='object')"
      ]
     },
     "execution_count": 43,
     "metadata": {},
     "output_type": "execute_result"
    }
   ],
   "source": [
    "# Columns after removing non variant columns\n",
    "data.columns"
   ]
  },
  {
   "cell_type": "markdown",
   "metadata": {
    "id": "R_y73RFP274P"
   },
   "source": [
    "## 4.\tMachine Learning Models"
   ]
  },
  {
   "cell_type": "markdown",
   "metadata": {
    "id": "1tgkPDHR59TJ"
   },
   "source": [
    "### Each of the model descriptions is written in their designated sections."
   ]
  },
  {
   "cell_type": "code",
   "execution_count": 44,
   "metadata": {
    "id": "ZxBJKYIYbspe"
   },
   "outputs": [],
   "source": [
    "# For cross validation\n",
    "from sklearn.model_selection import cross_val_score"
   ]
  },
  {
   "cell_type": "markdown",
   "metadata": {
    "id": "Db-kcdZVVrYX"
   },
   "source": [
    "### Creating a Balanced Dataset for Binary Classification"
   ]
  },
  {
   "cell_type": "code",
   "execution_count": 45,
   "metadata": {
    "colab": {
     "base_uri": "https://localhost:8080/"
    },
    "id": "b3IY9PKxVyK6",
    "outputId": "ce9230ff-4dab-4ac4-b604-2b357a80cc7d"
   },
   "outputs": [
    {
     "name": "stdout",
     "output_type": "stream",
     "text": [
      "Attack Type\n",
      "1    7544\n",
      "0    7456\n",
      "Name: count, dtype: int64\n"
     ]
    }
   ],
   "source": [
    "# Creating a balanced dataset for Binary Classification\n",
    "normal_traffic = data.loc[data['Attack Type'] == 'BENIGN']\n",
    "intrusions = data.loc[data['Attack Type'] != 'BENIGN']\n",
    "\n",
    "normal_traffic = normal_traffic.sample(n = len(intrusions), replace = False)\n",
    "\n",
    "ids_data = pd.concat([intrusions, normal_traffic])\n",
    "ids_data['Attack Type'] = np.where((ids_data['Attack Type'] == 'BENIGN'), 0, 1)\n",
    "bc_data = ids_data.sample(n = 15000)\n",
    "\n",
    "print(bc_data['Attack Type'].value_counts())"
   ]
  },
  {
   "cell_type": "code",
   "execution_count": 46,
   "metadata": {
    "id": "50MzC2G5V0PP"
   },
   "outputs": [],
   "source": [
    "# Splitting the data into features (X) and target (y)\n",
    "from sklearn.model_selection import train_test_split\n",
    "\n",
    "X_bc = bc_data.drop('Attack Type', axis = 1)\n",
    "y_bc = bc_data['Attack Type']\n",
    "\n",
    "X_train_bc, X_test_bc, y_train_bc, y_test_bc = train_test_split(X_bc, y_bc, test_size = 0.25, random_state = 0)"
   ]
  },
  {
   "cell_type": "markdown",
   "metadata": {
    "id": "Bvab0SkCfy0d"
   },
   "source": [
    "### Creating a Balanced Dataset for Multi-class Classification"
   ]
  },
  {
   "cell_type": "code",
   "execution_count": 47,
   "metadata": {
    "colab": {
     "base_uri": "https://localhost:8080/"
    },
    "id": "MRGWKYwPJeek",
    "outputId": "e18bcb30-040f-44bf-f9fb-f1440e075da3"
   },
   "outputs": [
    {
     "data": {
      "text/plain": [
       "Attack Type\n",
       "BENIGN          2273097\n",
       "DoS              252661\n",
       "Port Scan        158930\n",
       "DDoS             128027\n",
       "Brute Force       13835\n",
       "Web Attack         2180\n",
       "Bot                1966\n",
       "Infiltration         36\n",
       "Heartbleed           11\n",
       "Name: count, dtype: int64"
      ]
     },
     "execution_count": 47,
     "metadata": {},
     "output_type": "execute_result"
    }
   ],
   "source": [
    "data['Attack Type'].value_counts()"
   ]
  },
  {
   "cell_type": "code",
   "execution_count": 48,
   "metadata": {
    "colab": {
     "base_uri": "https://localhost:8080/"
    },
    "id": "ZnCaEsAjA1p3",
    "outputId": "dadaac73-caf1-48ad-a65e-9f6390828962"
   },
   "outputs": [
    {
     "data": {
      "text/plain": [
       "Attack Type\n",
       "BENIGN         5000\n",
       "DoS            5000\n",
       "Port Scan      5000\n",
       "DDoS           5000\n",
       "Brute Force    5000\n",
       "Web Attack     2180\n",
       "Bot            1966\n",
       "Name: count, dtype: int64"
      ]
     },
     "execution_count": 48,
     "metadata": {},
     "output_type": "execute_result"
    }
   ],
   "source": [
    "class_counts = data['Attack Type'].value_counts()\n",
    "selected_classes = class_counts[class_counts > 1950]\n",
    "class_names = selected_classes.index\n",
    "selected = data[data['Attack Type'].isin(class_names)]\n",
    "\n",
    "dfs = []\n",
    "for name in class_names:\n",
    "  df = selected[selected['Attack Type'] == name]\n",
    "  if len(df) > 2500:\n",
    "    df = df.sample(n = 5000, random_state = 0)\n",
    "\n",
    "  dfs.append(df)\n",
    "\n",
    "df = pd.concat(dfs, ignore_index = True)\n",
    "df['Attack Type'].value_counts()"
   ]
  },
  {
   "cell_type": "code",
   "execution_count": 49,
   "metadata": {
    "colab": {
     "base_uri": "https://localhost:8080/"
    },
    "id": "gXDuMQ3euiM_",
    "outputId": "d1c0e5f4-0008-4e33-8fd3-433b88df337c"
   },
   "outputs": [
    {
     "data": {
      "text/plain": [
       "Attack Type\n",
       "Bot            5000\n",
       "DoS            5000\n",
       "DDoS           5000\n",
       "Port Scan      5000\n",
       "Brute Force    5000\n",
       "BENIGN         5000\n",
       "Web Attack     5000\n",
       "Name: count, dtype: int64"
      ]
     },
     "execution_count": 49,
     "metadata": {},
     "output_type": "execute_result"
    }
   ],
   "source": [
    "from imblearn.over_sampling import SMOTE\n",
    "\n",
    "X = df.drop('Attack Type', axis=1)\n",
    "y = df['Attack Type']\n",
    "\n",
    "smote = SMOTE(sampling_strategy='auto', random_state=0)\n",
    "X_upsampled, y_upsampled = smote.fit_resample(X, y)\n",
    "\n",
    "blnc_data = pd.DataFrame(X_upsampled)\n",
    "blnc_data['Attack Type'] = y_upsampled\n",
    "blnc_data = blnc_data.sample(frac=1)\n",
    "\n",
    "blnc_data['Attack Type'].value_counts()"
   ]
  },
  {
   "cell_type": "code",
   "execution_count": 50,
   "metadata": {
    "id": "W958TQwtSxgz"
   },
   "outputs": [],
   "source": [
    "features = blnc_data.drop('Attack Type', axis = 1)\n",
    "labels = blnc_data['Attack Type']\n",
    "\n",
    "X_train, X_test, y_train, y_test = train_test_split(features, labels, test_size = 0.25, random_state = 0)"
   ]
  },
  {
   "cell_type": "markdown",
   "metadata": {
    "id": "isyblWcu-wmg"
   },
   "source": [
    "### Random Forest Classifier"
   ]
  },
  {
   "cell_type": "code",
   "execution_count": 51,
   "metadata": {
    "colab": {
     "base_uri": "https://localhost:8080/"
    },
    "id": "eK2A_QdRTaV0",
    "outputId": "3c949e70-85b1-460b-aa5a-410b405eb639"
   },
   "outputs": [
    {
     "name": "stdout",
     "output_type": "stream",
     "text": [
      "Random Forest Model 1\n",
      "\n",
      "Cross-validation scores: 0.9845714285714285, 0.989904761904762, 0.9853333333333333, 0.9904761904761905, 0.9855238095238095\n",
      "\n",
      "Mean cross-validation score: 0.99\n"
     ]
    }
   ],
   "source": [
    "from sklearn.ensemble import RandomForestClassifier\n",
    "\n",
    "rf1 = RandomForestClassifier(max_depth=16, n_estimators=20)\n",
    "\n",
    "rf1.fit(X_train, y_train)\n",
    "\n",
    "cv_rf1 = cross_val_score(rf1, X_train, y_train, cv = 5)\n",
    "print('Random Forest Model 1')\n",
    "print(f'\\nCross-validation scores:', ', '.join(map(str, cv_rf1)))\n",
    "print(f'\\nMean cross-validation score: {cv_rf1.mean():.2f}')"
   ]
  },
  {
   "cell_type": "code",
   "execution_count": 52,
   "metadata": {
    "colab": {
     "base_uri": "https://localhost:8080/"
    },
    "id": "y_H0qB7aUFKj",
    "outputId": "a8475fc1-4963-4a5b-8271-4a5d584d4b3c"
   },
   "outputs": [
    {
     "name": "stdout",
     "output_type": "stream",
     "text": [
      "Optimized Random Forest Model (Fixed Parameters)\n",
      "Cross-validation scores: 0.9845714285714285, 0.9895238095238095, 0.985904761904762, 0.9904761904761905, 0.9857142857142858\n",
      "Mean cross-validation score: 0.99\n"
     ]
    }
   ],
   "source": [
    "#  Optimize RF\n",
    "from sklearn.model_selection import cross_val_score\n",
    "\n",
    "rf2 = RandomForestClassifier(\n",
    "    n_estimators=200, \n",
    "    max_depth=None, \n",
    "    max_features='sqrt', \n",
    "    min_samples_leaf=1, \n",
    "    min_samples_split=2, \n",
    "    random_state=0\n",
    ")\n",
    "\n",
    "rf2.fit(X_train, y_train)\n",
    "\n",
    "# Đánh giá bằng cross-validation\n",
    "cv_rf2 = cross_val_score(rf2, X_train, y_train, cv=5)\n",
    "\n",
    "# Hiển thị kết quả\n",
    "print('Optimized Random Forest Model (Fixed Parameters)')\n",
    "print(f'Cross-validation scores:', ', '.join(map(str, cv_rf2)))\n",
    "print(f'Mean cross-validation score: {cv_rf2.mean():.2f}')"
   ]
  },
  {
   "cell_type": "markdown",
   "metadata": {
    "id": "tEDT9-gO6UfJ"
   },
   "source": [
    "## 5.\tPerformance Evaluation and Discussion"
   ]
  },
  {
   "cell_type": "code",
   "execution_count": 53,
   "metadata": {
    "id": "a_hyY4e9B1hn"
   },
   "outputs": [],
   "source": [
    "# Importing necessary functions\n",
    "from sklearn.metrics import confusion_matrix, ConfusionMatrixDisplay, accuracy_score, classification_report, \\\n",
    " roc_auc_score, roc_curve, auc, precision_recall_curve"
   ]
  },
  {
   "cell_type": "markdown",
   "metadata": {
    "id": "pDp-xQWSqtLV"
   },
   "source": [
    "### Random Forest Models Comparison"
   ]
  },
  {
   "cell_type": "code",
   "execution_count": 54,
   "metadata": {
    "colab": {
     "base_uri": "https://localhost:8080/"
    },
    "id": "K3geU-g0qxqx",
    "outputId": "c06c9742-77f1-4de2-c15d-ac97df4d9a59"
   },
   "outputs": [
    {
     "data": {
      "image/png": "[encoded data removed]",
      "text/plain": [
       "<Figure size 1600x700 with 4 Axes>"
      ]
     },
     "metadata": {},
     "output_type": "display_data"
    }
   ],
   "source": [
    "y_pred_rf1 = rf1.predict(X_test)\n",
    "y_pred_rf2 = rf2.predict(X_test)\n",
    "\n",
    "conf_matrix_model1 = confusion_matrix(y_test, y_pred_rf1)\n",
    "conf_matrix_model2 = confusion_matrix(y_test, y_pred_rf2)\n",
    "\n",
    "fig, axs = plt.subplots(1, 2, figsize = (16, 7))\n",
    "\n",
    "sns.heatmap(conf_matrix_model1, annot = True, cmap = 'Blues', ax = axs[0], xticklabels = rf1.classes_, yticklabels = rf1.classes_)\n",
    "axs[0].set_title('Model 1')\n",
    "\n",
    "sns.heatmap(conf_matrix_model2, annot = True, cmap = 'Blues', ax = axs[1], xticklabels = rf2.classes_, yticklabels = rf2.classes_)\n",
    "axs[1].set_title('Model 2')\n",
    "\n",
    "axs[0].set_xlabel('Predicted label')\n",
    "axs[0].set_ylabel('True label')\n",
    "axs[1].set_xlabel('Predicted label')\n",
    "\n",
    "fig.tight_layout()\n",
    "plt.show()"
   ]
  },
  {
   "cell_type": "code",
   "execution_count": 55,
   "metadata": {
    "colab": {
     "base_uri": "https://localhost:8080/"
    },
    "id": "kgjmfsmQJd7w",
    "outputId": "406ff818-b47e-4108-f5d4-0315fa1262ac"
   },
   "outputs": [
    {
     "data": {
      "image/png": "[encoded data removed]",
      "text/plain": [
       "<Figure size 1400x600 with 4 Axes>"
      ]
     },
     "metadata": {},
     "output_type": "display_data"
    }
   ],
   "source": [
    "target_names = rf1.classes_\n",
    "metrics1 = classification_report(y_true = y_test, y_pred = y_pred_rf1, target_names = target_names, output_dict = True)\n",
    "precision1 = [metrics1[target_name]['precision'] for target_name in target_names]\n",
    "recall1 = [metrics1[target_name]['recall'] for target_name in target_names]\n",
    "f1_score1 = [metrics1[target_name]['f1-score'] for target_name in target_names]\n",
    "\n",
    "metrics2 = classification_report(y_true = y_test, y_pred = y_pred_rf2, target_names = target_names, output_dict = True)\n",
    "precision2 = [metrics2[target_name]['precision'] for target_name in target_names]\n",
    "recall2 = [metrics2[target_name]['recall'] for target_name in target_names]\n",
    "f1_score2 = [metrics2[target_name]['f1-score'] for target_name in target_names]\n",
    "\n",
    "data1 = np.array([precision1, recall1, f1_score1])\n",
    "data2 = np.array([precision2, recall2, f1_score2])\n",
    "rows = ['Precision', 'Recall', 'F1-score']\n",
    "\n",
    "fig, axs = plt.subplots(1, 2, figsize = (14, 6))\n",
    "sns.heatmap(data1, cmap = 'Pastel1', annot = True, fmt = '.2f', xticklabels = target_names, yticklabels = rows, ax = axs[0])\n",
    "sns.heatmap(data2, cmap = 'Pastel1', annot = True, fmt = '.2f', xticklabels = target_names, yticklabels = rows, ax = axs[1])\n",
    "axs[0].set_title('Classification Report (Model 1)')\n",
    "axs[1].set_title('Classification Report (Model 2)')\n",
    "fig.tight_layout()\n",
    "plt.show()"
   ]
  },
  {
   "cell_type": "code",
   "execution_count": 56,
   "metadata": {
    "colab": {
     "base_uri": "https://localhost:8080/"
    },
    "id": "-AEq7AxGwHb3",
    "outputId": "27112d37-cca7-46ef-b61d-a7a8e1c3891b"
   },
   "outputs": [
    {
     "data": {
      "image/png": "[encoded data removed]",
      "text/plain": [
       "<Figure size 900x300 with 1 Axes>"
      ]
     },
     "metadata": {},
     "output_type": "display_data"
    }
   ],
   "source": [
    "palette = sns.color_palette('Blues', n_colors = 2)\n",
    "\n",
    "acc1 = accuracy_score(y_pred_rf1, y_test)\n",
    "acc2 = accuracy_score(y_pred_rf2, y_test)\n",
    "\n",
    "labels = ['Model 1', 'Model 2']\n",
    "scores = [acc1, acc2]\n",
    "\n",
    "fig, ax = plt.subplots(figsize = (9, 3))\n",
    "ax.barh(labels, scores, color = palette)\n",
    "ax.set_xlim([0, 1])\n",
    "ax.set_xlabel('Accuracy Score')\n",
    "ax.set_title('Random Forest Model Comparison')\n",
    "\n",
    "for i, v in enumerate(scores):\n",
    "    ax.text(v + 0.01, i, str(round(v, 3)), ha = 'left', va = 'center')\n",
    "\n",
    "plt.show()"
   ]
  },
  {
   "cell_type": "code",
   "execution_count": 57,
   "metadata": {
    "colab": {
     "base_uri": "https://localhost:8080/"
    },
    "id": "dHewLYnurYGu",
    "outputId": "2bcb721b-e625-4568-8824-ec1889b9eca1"
   },
   "outputs": [
    {
     "data": {
      "image/png": "[encoded data removed]",
      "text/plain": [
       "<Figure size 900x300 with 1 Axes>"
      ]
     },
     "metadata": {},
     "output_type": "display_data"
    }
   ],
   "source": [
    "palette = sns.color_palette('Greens', n_colors = 2)\n",
    "\n",
    "labels = ['Model 1', 'Model 2']\n",
    "scores = [cv_rf1.mean(), cv_rf2.mean()]\n",
    "\n",
    "fig, ax = plt.subplots(figsize = (9, 3))\n",
    "ax.barh(labels, scores, color = palette)\n",
    "ax.set_xlim([0, 1])\n",
    "ax.set_xlabel('Cross Validation Score')\n",
    "ax.set_title('Random Forest Model Comparison (Cross Validation)')\n",
    "\n",
    "for i, v in enumerate(scores):\n",
    "    ax.text(v + 0.01, i, str(round(v, 3)), ha = 'left', va = 'center')\n",
    "\n",
    "plt.show()"
   ]
  },
  {
   "cell_type": "code",
   "execution_count": 58,
   "metadata": {},
   "outputs": [],
   "source": [
    "from sklearn2pmml import PMMLPipeline, sklearn2pmml\n",
    "\n",
    "# Create a PMML pipeline\n",
    "pipeline = PMMLPipeline([\n",
    "    (\"classifier\", rf1)\n",
    "])\n",
    "\n",
    "# Export the model to PMML format\n",
    "sklearn2pmml(pipeline, \"model1.pmml\", with_repr=True)"
   ]
  },
  {
   "cell_type": "code",
   "execution_count": 59,
   "metadata": {},
   "outputs": [],
   "source": [
    "from sklearn2pmml import PMMLPipeline, sklearn2pmml\n",
    "\n",
    "# Create a PMML pipeline\n",
    "pipeline = PMMLPipeline([\n",
    "    (\"classifier\", rf2)\n",
    "])\n",
    "\n",
    "# Export the model to PMML format\n",
    "sklearn2pmml(pipeline, \"model2.pmml\", with_repr=True)"
   ]
  },
  {
   "cell_type": "code",
   "execution_count": null,
   "metadata": {},
   "outputs": [],
   "source": []
  }
 ],
 "metadata": {
  "colab": {
   "collapsed_sections": [
    "B8DGk4gEhiJp",
    "aSAAWG06ekQn",
    "LDdJgFihgVf8",
    "R28LNrp5iWR7",
    "xf9z8Pwlid-3",
    "hXWOYP6-ieI0",
    "MsSwQ-DOvm-6",
    "ZGkxFBOYv5Gt",
    "-uDiDKokwPhS",
    "_iYfyW2-yyAR",
    "NJ9tbZTRxHVU",
    "nNRw8GcEQ-st",
    "kk2Kas03g1V3",
    "1tgkPDHR59TJ",
    "Db-kcdZVVrYX",
    "VHpB4fGaTzPK",
    "0bYBt91SVl2Q",
    "Bvab0SkCfy0d",
    "isyblWcu-wmg",
    "8D1ip-J88_fE"
   ],
   "provenance": [],
   "toc_visible": true
  },
  "kernelspec": {
   "display_name": "cicids",
   "language": "python",
   "name": "cicids"
  },
  "language_info": {
   "codemirror_mode": {
    "name": "ipython",
    "version": 3
   },
   "file_extension": ".py",
   "mimetype": "text/x-python",
   "name": "python",
   "nbconvert_exporter": "python",
   "pygments_lexer": "ipython3",
   "version": "3.9.21"
  },
  "vscode": {
   "interpreter": {
    "hash": "5df4995f4205929e0e7a5839a3f9bdb0ead66b703c002bad5d5fcff442b16b20"
   }
  }
 },
 "nbformat": 4,
 "nbformat_minor": 4
}
